{
 "cells": [
  {
   "cell_type": "code",
   "execution_count": 1,
   "id": "fe6fa392",
   "metadata": {},
   "outputs": [],
   "source": [
    "import cv2\n",
    "import numpy as np\n",
    "import face_recognition as fr\n",
    "import pandas as pd\n",
    "import matplotlib.pyplot as plt\n",
    "import os"
   ]
  },
  {
   "cell_type": "code",
   "execution_count": 2,
   "id": "3f0ce86f",
   "metadata": {},
   "outputs": [
    {
     "data": {
      "text/plain": [
       "\"students = {\\n    'Dinesh' : '213J1A4267',\\n    'Ritesh' : '213J1A4280',\\n    'Vardhan' : '213J1A4287',\\n    'Bhavani Shankar' : '213J1A4288',\\n    'Shyam': '213J1A4297',\\n    'Hemant Srinivas' : '213J1A4298',\\n    'Harsha Vardhan' : '213J1A42A6',\\n    'Sadhik' : '213J1A42B1',\\n    'Sadhiq Shaik' : '213J1A42B2',\\n    'Manideep' : '213J1A42B6',\\n    'Rohit' : '213J1A42B9', \\n    'Purna' : '213J1A42C2',\\n    'Dev' : '213J1A42C3',\\n    'Murali' : '213J1A42C6',\\n    'Vivek' : '213J1A42C9',\\n    'Deepak' : '213J1A42D2',\\n    'Naveen' :  '223J5A4208',\\n    'Praveen Kumar': '223J5A4209',\\n    'Tharun' : '223J5A4211',\\n}\""
      ]
     },
     "execution_count": 2,
     "metadata": {},
     "output_type": "execute_result"
    }
   ],
   "source": [
    "'''students = {\n",
    "    'Dinesh' : '213J1A4267',\n",
    "    'Ritesh' : '213J1A4280',\n",
    "    'Vardhan' : '213J1A4287',\n",
    "    'Bhavani Shankar' : '213J1A4288',\n",
    "    'Shyam': '213J1A4297',\n",
    "    'Hemant Srinivas' : '213J1A4298',\n",
    "    'Harsha Vardhan' : '213J1A42A6',\n",
    "    'Sadhik' : '213J1A42B1',\n",
    "    'Sadhiq Shaik' : '213J1A42B2',\n",
    "    'Manideep' : '213J1A42B6',\n",
    "    'Rohit' : '213J1A42B9', \n",
    "    'Purna' : '213J1A42C2',\n",
    "    'Dev' : '213J1A42C3',\n",
    "    'Murali' : '213J1A42C6',\n",
    "    'Vivek' : '213J1A42C9',\n",
    "    'Deepak' : '213J1A42D2',\n",
    "    'Naveen' :  '223J5A4208',\n",
    "    'Praveen Kumar': '223J5A4209',\n",
    "    'Tharun' : '223J5A4211',\n",
    "}'''"
   ]
  },
  {
   "cell_type": "code",
   "execution_count": 3,
   "id": "0e4c197e",
   "metadata": {},
   "outputs": [],
   "source": [
    "students = {\n",
    "    'Ritesh' : '213J1A4280',\n",
    "    'Shyam': '213J1A4297',\n",
    "    'Manideep' : '213J1A42B6',\n",
    "    'Sadhik' : '213J1A42B1',\n",
    "    'Sadhiq Shaik' : '213J1A42B2',\n",
    "    'Vivek' : '213J1A42C9',\n",
    "    'Deepak' : '213J1A42D2',\n",
    "    'Naveen' :  '223J5A4208',\n",
    "}"
   ]
  },
  {
   "cell_type": "code",
   "execution_count": 4,
   "id": "421ee1dc",
   "metadata": {},
   "outputs": [
    {
     "name": "stdout",
     "output_type": "stream",
     "text": [
      "8\n"
     ]
    }
   ],
   "source": [
    "print(len(students))"
   ]
  },
  {
   "cell_type": "code",
   "execution_count": 5,
   "id": "47b8c321",
   "metadata": {},
   "outputs": [],
   "source": [
    "address=[]\n",
    "for x in students.values():\n",
    "    i = x + '.jpg'\n",
    "    address.append(i)"
   ]
  },
  {
   "cell_type": "code",
   "execution_count": 6,
   "id": "f057240d",
   "metadata": {},
   "outputs": [
    {
     "data": {
      "text/plain": [
       "['213J1A4280.jpg',\n",
       " '213J1A4297.jpg',\n",
       " '213J1A42B6.jpg',\n",
       " '213J1A42B1.jpg',\n",
       " '213J1A42B2.jpg',\n",
       " '213J1A42C9.jpg',\n",
       " '213J1A42D2.jpg',\n",
       " '223J5A4208.jpg']"
      ]
     },
     "execution_count": 6,
     "metadata": {},
     "output_type": "execute_result"
    }
   ],
   "source": [
    "address"
   ]
  },
  {
   "cell_type": "code",
   "execution_count": 7,
   "id": "27b8ee09",
   "metadata": {},
   "outputs": [],
   "source": [
    "Ritesh_image = fr.load_image_file(address[0])\n",
    "Ritesh_face_encoding = fr.face_encodings(Ritesh_image)[0]\n",
    "\n",
    "Shyam_image = fr.load_image_file(address[1])\n",
    "Shyam_face_encoding = fr.face_encodings(Shyam_image)[0]\n",
    "\n",
    "Manideep_image = fr.load_image_file(address[2])\n",
    "Manideep_face_encoding = fr.face_encodings(Manideep_image)[0]\n",
    "\n",
    "Sadhik_image = fr.load_image_file(address[3])\n",
    "Sadhik_face_encoding = fr.face_encodings(Sadhik_image)[0]\n",
    "\n",
    "Sadhiq_Shaik_image = fr.load_image_file(address[4])\n",
    "Sadhiq_Shaik_face_encoding = fr.face_encodings(Sadhiq_Shaik_image)[0]\n",
    "\n",
    "Vivek_image = fr.load_image_file(address[5])\n",
    "Vivek_face_encoding = fr.face_encodings(Vivek_image)[0]\n",
    "\n",
    "Deepak_image = fr.load_image_file(address[6])\n",
    "Deepak_face_encoding = fr.face_encodings(Deepak_image)[0]\n",
    "\n",
    "Naveen_image = fr.load_image_file(address[7])\n",
    "Naveen_face_encoding = fr.face_encodings(Naveen_image)[0]"
   ]
  },
  {
   "cell_type": "code",
   "execution_count": 8,
   "id": "a05ed515",
   "metadata": {},
   "outputs": [],
   "source": [
    "known_face_encodings = [\n",
    "    Ritesh_face_encoding,\n",
    "    Shyam_face_encoding,\n",
    "    Manideep_face_encoding,\n",
    "    Sadhik_face_encoding,\n",
    "    Sadhiq_Shaik_face_encoding,\n",
    "    Vivek_face_encoding,\n",
    "    Deepak_face_encoding,\n",
    "    Naveen_face_encoding,\n",
    "    ]"
   ]
  },
  {
   "cell_type": "code",
   "execution_count": 9,
   "id": "e62d95fb",
   "metadata": {},
   "outputs": [
    {
     "data": {
      "text/plain": [
       "'213J1A42B1.jpg'"
      ]
     },
     "execution_count": 9,
     "metadata": {},
     "output_type": "execute_result"
    }
   ],
   "source": [
    "address[3]"
   ]
  },
  {
   "cell_type": "code",
   "execution_count": 10,
   "id": "172dbda9",
   "metadata": {
    "scrolled": true
   },
   "outputs": [
    {
     "data": {
      "text/plain": [
       "'# Load a sample picture and learn how to recognize it.\\nDinesh_image = fr.load_image_file(address[0])\\nDinesh_face_encoding = fr.face_encodings(Dinesh_image)[0]\\n\\nRitesh_image = fr.load_image_file(address[1])\\nRitesh_face_encoding = fr.face_encodings(Ritesh_image)[0]\\n\\nVardhan_image = fr.load_image_file(address[2])\\nVardhan_face_encoding = fr.face_encodings(Vardhan_image)[0]\\n\\nBhavani_Shankar_image = fr.load_image_file(address[3])\\nBhavani_Shankar_face_encoding = fr.face_encodings(Bhavani_Shankar_image)[0]\\n\\nShyam_image = fr.load_image_file(address[4])\\nShyam_face_encoding = fr.face_encodings(Shyam_image)[0]\\n\\nHemant_Srinivas_image = fr.load_image_file(address[5])\\nHemant_Srinivas_face_encoding = fr.face_encodings(Hemant_Srinivas_image)[0]\\n\\nHarsha_Vardhan_image = fr.load_image_file(address[6])\\nHarsha_Vardhan_face_encoding = fr.face_encodings(Harsha_Vardhan_image)[0]\\n\\nSadhik_image = fr.load_image_file(address[7])\\nSadhik_face_encoding = fr.face_encodings(Sadhik_image)[0]\\n\\nSadhiq_Shaik_image = fr.load_image_file(address[8])\\nSadhiq_Shaik_face_encoding = fr.face_encodings(Sadhiq_Shaik_image)[0]\\n\\nManideep_image = fr.load_image_file(address[9])\\nManideep_face_encoding = fr.face_encodings(Manideep_image)[0]\\n\\nRohit_image = fr.load_image_file(address[10])\\nRohit_face_encoding = fr.face_encodings(Rohit_image)[0]\\n\\nPurna_image = fr.load_image_file(address[11])\\nPurna_face_encoding = fr.face_encodings(Purna_image)[0]\\n\\nDev_image = fr.load_image_file(address[12])\\nDev_face_encoding = fr.face_encodings(Dev_image)[0]\\n\\nMurali_image = fr.load_image_file(address[13])\\nMurali_face_encoding = fr.face_encodings(Murali_image)[0]\\n\\nVivek_image = fr.load_image_file(address[14])\\nVivek_face_encoding = fr.face_encodings(Vivek_image)[0]\\n\\nDeepak_image = fr.load_image_file(address[15])\\nDeepak_face_encoding = fr.face_encodings(Deepak_image)[0]\\n\\nNaveen_image = fr.load_image_file(address[16])\\nNaveen_face_encoding = fr.face_encodings(Naveen_image)[0]\\n\\nPraveen_Kumar_image = fr.load_image_file(address[17])\\nPraveen_Kumar_face_encoding = fr.face_encodings(Praveen_Kumar_image)[0]\\n\\nTharun_image = fr.load_image_file(address[18])\\nTharun_face_encoding = fr.face_encodings(Tharun_image)[0]\\n\\n\\nknown_face_encodings = [\\n    Dinesh_face_encoding,\\n    Ritesh_face_encoding,\\n    Vardhan_face_encoding,\\n    Bhavani_Shankar_face_encoding,\\n    Shyam_face_encoding,\\n    Hemant_Srinivas_face_encoding,\\n    Harsha_Vardhan_face_encoding,\\n    Sadhik_face_encoding,\\n    Sadhiq_Shaik_face_encoding,\\n    Manideep_face_encoding,\\n    Rohit_face_encoding,\\n    Purna_face_encoding,\\n    Dev_face_encoding,\\n    Murali_face_encoding,\\n    Vivek_face_encoding,\\n    Deepak_face_encoding,\\n    Naveen_face_encoding,\\n    Praveen_Kumar_face_encoding ,\\n    Tharun_face_encoding,\\n    ]'"
      ]
     },
     "execution_count": 10,
     "metadata": {},
     "output_type": "execute_result"
    }
   ],
   "source": [
    "'''# Load a sample picture and learn how to recognize it.\n",
    "Dinesh_image = fr.load_image_file(address[0])\n",
    "Dinesh_face_encoding = fr.face_encodings(Dinesh_image)[0]\n",
    "\n",
    "Ritesh_image = fr.load_image_file(address[1])\n",
    "Ritesh_face_encoding = fr.face_encodings(Ritesh_image)[0]\n",
    "\n",
    "Vardhan_image = fr.load_image_file(address[2])\n",
    "Vardhan_face_encoding = fr.face_encodings(Vardhan_image)[0]\n",
    "\n",
    "Bhavani_Shankar_image = fr.load_image_file(address[3])\n",
    "Bhavani_Shankar_face_encoding = fr.face_encodings(Bhavani_Shankar_image)[0]\n",
    "\n",
    "Shyam_image = fr.load_image_file(address[4])\n",
    "Shyam_face_encoding = fr.face_encodings(Shyam_image)[0]\n",
    "\n",
    "Hemant_Srinivas_image = fr.load_image_file(address[5])\n",
    "Hemant_Srinivas_face_encoding = fr.face_encodings(Hemant_Srinivas_image)[0]\n",
    "\n",
    "Harsha_Vardhan_image = fr.load_image_file(address[6])\n",
    "Harsha_Vardhan_face_encoding = fr.face_encodings(Harsha_Vardhan_image)[0]\n",
    "\n",
    "Sadhik_image = fr.load_image_file(address[7])\n",
    "Sadhik_face_encoding = fr.face_encodings(Sadhik_image)[0]\n",
    "\n",
    "Sadhiq_Shaik_image = fr.load_image_file(address[8])\n",
    "Sadhiq_Shaik_face_encoding = fr.face_encodings(Sadhiq_Shaik_image)[0]\n",
    "\n",
    "Manideep_image = fr.load_image_file(address[9])\n",
    "Manideep_face_encoding = fr.face_encodings(Manideep_image)[0]\n",
    "\n",
    "Rohit_image = fr.load_image_file(address[10])\n",
    "Rohit_face_encoding = fr.face_encodings(Rohit_image)[0]\n",
    "\n",
    "Purna_image = fr.load_image_file(address[11])\n",
    "Purna_face_encoding = fr.face_encodings(Purna_image)[0]\n",
    "\n",
    "Dev_image = fr.load_image_file(address[12])\n",
    "Dev_face_encoding = fr.face_encodings(Dev_image)[0]\n",
    "\n",
    "Murali_image = fr.load_image_file(address[13])\n",
    "Murali_face_encoding = fr.face_encodings(Murali_image)[0]\n",
    "\n",
    "Vivek_image = fr.load_image_file(address[14])\n",
    "Vivek_face_encoding = fr.face_encodings(Vivek_image)[0]\n",
    "\n",
    "Deepak_image = fr.load_image_file(address[15])\n",
    "Deepak_face_encoding = fr.face_encodings(Deepak_image)[0]\n",
    "\n",
    "Naveen_image = fr.load_image_file(address[16])\n",
    "Naveen_face_encoding = fr.face_encodings(Naveen_image)[0]\n",
    "\n",
    "Praveen_Kumar_image = fr.load_image_file(address[17])\n",
    "Praveen_Kumar_face_encoding = fr.face_encodings(Praveen_Kumar_image)[0]\n",
    "\n",
    "Tharun_image = fr.load_image_file(address[18])\n",
    "Tharun_face_encoding = fr.face_encodings(Tharun_image)[0]\n",
    "\n",
    "\n",
    "known_face_encodings = [\n",
    "    Dinesh_face_encoding,\n",
    "    Ritesh_face_encoding,\n",
    "    Vardhan_face_encoding,\n",
    "    Bhavani_Shankar_face_encoding,\n",
    "    Shyam_face_encoding,\n",
    "    Hemant_Srinivas_face_encoding,\n",
    "    Harsha_Vardhan_face_encoding,\n",
    "    Sadhik_face_encoding,\n",
    "    Sadhiq_Shaik_face_encoding,\n",
    "    Manideep_face_encoding,\n",
    "    Rohit_face_encoding,\n",
    "    Purna_face_encoding,\n",
    "    Dev_face_encoding,\n",
    "    Murali_face_encoding,\n",
    "    Vivek_face_encoding,\n",
    "    Deepak_face_encoding,\n",
    "    Naveen_face_encoding,\n",
    "    Praveen_Kumar_face_encoding ,\n",
    "    Tharun_face_encoding,\n",
    "    ]'''"
   ]
  },
  {
   "cell_type": "code",
   "execution_count": 11,
   "id": "f47173db",
   "metadata": {},
   "outputs": [],
   "source": [
    "#Murali_face_encoding"
   ]
  },
  {
   "cell_type": "code",
   "execution_count": 12,
   "id": "6a129dfd",
   "metadata": {},
   "outputs": [],
   "source": [
    "def extract_frames_per_second(video_path, output_folder):\n",
    "  # Open the video capture object\n",
    "  cap = cv2.VideoCapture(video_path)\n",
    "\n",
    "  # Check if video opened successfully\n",
    "  if not cap.isOpened():\n",
    "      print(\"Error opening video!\")\n",
    "      return\n",
    "\n",
    "  # Get frame rate (FPS)\n",
    "  fps = cap.get(cv2.CAP_PROP_FPS)\n",
    "\n",
    "  # Define frame count variable and counter for extracted frames\n",
    "  frame_count = 0\n",
    "  extracted_frame_count = 0\n",
    "\n",
    "  while True:\n",
    "      ret, frame = cap.read()\n",
    "\n",
    "      # Check if frame is read correctly\n",
    "      if not ret:\n",
    "          print(\"Can't receive frame (stream end?). Exiting...\")\n",
    "          break\n",
    "\n",
    "      # Extract frame every 1/fps seconds (assuming constant FPS)\n",
    "      if frame_count % int(fps) == 0:\n",
    "          # Create filename with frame number\n",
    "          filename = f\"{output_folder}/frame_{extracted_frame_count}.jpg\"\n",
    "\n",
    "          # Save the frame\n",
    "          cv2.imwrite(filename, frame)\n",
    "          extracted_frame_count += 1\n",
    "\n",
    "      frame_count += 1\n",
    "\n",
    "  # When everything done, release the capture object\n",
    "  cap.release()\n",
    "  print(f\"Extracted {extracted_frame_count} frames to {output_folder}\")"
   ]
  },
  {
   "cell_type": "code",
   "execution_count": 13,
   "id": "5b9989a0",
   "metadata": {},
   "outputs": [
    {
     "name": "stdout",
     "output_type": "stream",
     "text": [
      "Can't receive frame (stream end?). Exiting...\n",
      "Extracted 2 frames to Frames\n"
     ]
    }
   ],
   "source": [
    "# Example usage\n",
    "video_path = \"CLASS_VIDEO.mp4\"\n",
    "output_folder = \"Frames\"\n",
    "extract_frames_per_second(video_path, output_folder)"
   ]
  },
  {
   "cell_type": "code",
   "execution_count": 14,
   "id": "ffbd5c43",
   "metadata": {},
   "outputs": [],
   "source": [
    "def get_image_path():\n",
    "    image_paths = []\n",
    "    current_folder = os.getcwd()\n",
    "    current_folder = current_folder + '\\\\Frames'\n",
    "    files = [x for x in os.listdir(current_folder)]\n",
    "    for filename in files:\n",
    "        if filename.lower().endswith((\".jpg\")):\n",
    "            image_path = f\"{current_folder}\\\\{filename}\"\n",
    "            image_paths.append(image_path)\n",
    "    return image_paths"
   ]
  },
  {
   "cell_type": "code",
   "execution_count": 15,
   "id": "4244c169",
   "metadata": {},
   "outputs": [],
   "source": [
    "image_paths = get_image_path()"
   ]
  },
  {
   "cell_type": "code",
   "execution_count": 16,
   "id": "e26a5bf9",
   "metadata": {},
   "outputs": [
    {
     "name": "stdout",
     "output_type": "stream",
     "text": [
      "Wall time: 0 ns\n"
     ]
    }
   ],
   "source": [
    "%%time\n",
    "# Initialize some variables\n",
    "def face_recog(image_paths, known_face_encodings, players):\n",
    "    face_names = []\n",
    "    process_this_frame = True\n",
    "\n",
    "    for path in image_paths:\n",
    "        # Grab a single frame of video\n",
    "        frame = fr.load_image_file(path)\n",
    "\n",
    "        rgb_small_frame = frame[:, :, ::-1]\n",
    "\n",
    "        if process_this_frame:\n",
    "            face_locations = fr.face_locations(rgb_small_frame, number_of_times_to_upsample=1, model='hog')\n",
    "            face_encodings = fr.face_encodings(frame, face_locations)\n",
    "\n",
    "            for face_encoding in face_encodings:\n",
    "                matches = fr.compare_faces(known_face_encodings, face_encoding)\n",
    "\n",
    "                if True in matches:\n",
    "                     first_match_index = matches.index(True)\n",
    "                     name = players[first_match_index]\n",
    "\n",
    "                face_names.append(name)\n",
    "\n",
    "        process_this_frame = not process_this_frame\n",
    "    return set(face_names)"
   ]
  },
  {
   "cell_type": "code",
   "execution_count": null,
   "id": "0faf7df7",
   "metadata": {},
   "outputs": [],
   "source": [
    "%%time\n",
    "face_recog(image_paths, known_face_encodings, students.keys())"
   ]
  }
 ],
 "metadata": {
  "kernelspec": {
   "display_name": "Python 3 (ipykernel)",
   "language": "python",
   "name": "python3"
  }
 },
 "nbformat": 4,
 "nbformat_minor": 5
}
